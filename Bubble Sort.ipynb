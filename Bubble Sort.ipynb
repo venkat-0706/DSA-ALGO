{
 "cells": [
  {
   "cell_type": "markdown",
   "id": "663f0012-282e-4880-9445-edcb38adedb3",
   "metadata": {},
   "source": [
    "### Bubble Sort Algorithm:\n",
    "Bubble Sort is a simple sorting algorithm that repeatedly steps through the list, compares adjacent elements, and swaps them if they are in the wrong order. This process continues until the list is sorted.\n",
    "\n",
    "---\n",
    "\n",
    "### **Steps of Bubble Sort**:\n",
    "1. Compare adjacent elements in the list.\n",
    "2. Swap the elements if they are in the wrong order.\n",
    "3. Move to the next pair of elements.\n",
    "4. Repeat the process for all elements in the list.\n",
    "5. After each iteration, the largest element \"bubbles up\" to its correct position.\n",
    "6. Repeat until no swaps are needed, indicating the list is sorted."
   ]
  },
  {
   "cell_type": "code",
   "execution_count": 7,
   "id": "7352f7b4-266b-4e5e-8bbc-156a1b15595e",
   "metadata": {},
   "outputs": [
    {
     "name": "stdout",
     "output_type": "stream",
     "text": [
      "Sorted array: [11, 12, 22, 25, 34, 64, 90]\n"
     ]
    }
   ],
   "source": [
    "def bubble_sort(arr):\n",
    "    n = len(arr)\n",
    "    for i in range(n):\n",
    "        swapped = False\n",
    "        for j in range(n - i - 1):\n",
    "            if arr[j] > arr[j + 1]:\n",
    "                arr[j], arr[j + 1] = arr[j + 1], arr[j]\n",
    "                swapped = True\n",
    "        if not swapped:  \n",
    "            break\n",
    "    return arr\n",
    "\n",
    "array = [64, 34, 25, 12, 22, 11, 90]\n",
    "print(\"Sorted array:\", bubble_sort(array))\n"
   ]
  },
  {
   "cell_type": "code",
   "execution_count": null,
   "id": "fbff2961-4f86-42ba-8858-20cac0c1574b",
   "metadata": {},
   "outputs": [],
   "source": []
  }
 ],
 "metadata": {
  "kernelspec": {
   "display_name": "Python 3 (ipykernel)",
   "language": "python",
   "name": "python3"
  },
  "language_info": {
   "codemirror_mode": {
    "name": "ipython",
    "version": 3
   },
   "file_extension": ".py",
   "mimetype": "text/x-python",
   "name": "python",
   "nbconvert_exporter": "python",
   "pygments_lexer": "ipython3",
   "version": "3.12.4"
  }
 },
 "nbformat": 4,
 "nbformat_minor": 5
}
